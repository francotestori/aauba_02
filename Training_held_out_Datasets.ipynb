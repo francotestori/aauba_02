{
  "nbformat": 4,
  "nbformat_minor": 0,
  "metadata": {
    "colab": {
      "name": "Training_held-out_Datasets.ipynb",
      "provenance": [],
      "collapsed_sections": [],
      "toc_visible": true,
      "include_colab_link": true
    },
    "kernelspec": {
      "name": "python3",
      "display_name": "Python 3"
    }
  },
  "cells": [
    {
      "cell_type": "markdown",
      "metadata": {
        "id": "view-in-github",
        "colab_type": "text"
      },
      "source": [
        "<a href=\"https://colab.research.google.com/github/francotestori/aauba_02/blob/master/Training_held_out_Datasets.ipynb\" target=\"_parent\"><img src=\"https://colab.research.google.com/assets/colab-badge.svg\" alt=\"Open In Colab\"/></a>"
      ]
    },
    {
      "cell_type": "markdown",
      "metadata": {
        "id": "pg_kc69cksY4",
        "colab_type": "text"
      },
      "source": [
        "# Armado del DataFrame"
      ]
    },
    {
      "cell_type": "code",
      "metadata": {
        "id": "BUgUxbQ-OmGF",
        "colab_type": "code",
        "colab": {
          "base_uri": "https://localhost:8080/",
          "height": 34
        },
        "outputId": "920a8774-eecd-493c-91f6-6ca459674d98"
      },
      "source": [
        "#Importing Libraries\n",
        "import numpy as np\n",
        "import pandas as pd\n",
        "from sklearn.externals import joblib\n",
        "import matplotlib.pyplot as plt\n",
        "# Encoders & Split\n",
        "from sklearn.preprocessing import LabelEncoder\n",
        "from sklearn.model_selection import train_test_split\n",
        "from sklearn.preprocessing import StandardScaler\n",
        "# Classifiers\n",
        "from sklearn.naive_bayes import GaussianNB\n",
        "from sklearn.ensemble import RandomForestClassifier\n",
        "from sklearn.ensemble import GradientBoostingClassifier\n",
        "# Parameter Tuning\n",
        "from sklearn.model_selection import GridSearchCV\n",
        "#Confusion Matrix\n",
        "from sklearn.metrics import confusion_matrix\n",
        "from sklearn.metrics import plot_confusion_matrix\n",
        "# Scoring & Reporting\n",
        "from sklearn.metrics import accuracy_score\n",
        "from sklearn.metrics import jaccard_similarity_score\n",
        "from sklearn.metrics import confusion_matrix\n",
        "from sklearn.metrics import roc_auc_score\n",
        "from sklearn.metrics import roc_curve\n",
        "from sklearn.metrics import classification_report\n",
        "print('Libraries Imported')"
      ],
      "execution_count": 31,
      "outputs": [
        {
          "output_type": "stream",
          "text": [
            "Libraries Imported\n"
          ],
          "name": "stdout"
        }
      ]
    },
    {
      "cell_type": "code",
      "metadata": {
        "id": "jwKRzIBMOnNx",
        "colab_type": "code",
        "colab": {
          "base_uri": "https://localhost:8080/",
          "height": 224
        },
        "outputId": "86eb0831-bd20-480f-9d5c-88878bea66ba"
      },
      "source": [
        "import pandas as pd\n",
        "url = 'https://raw.githubusercontent.com/francotestori/aauba_02/master/resources/audio_digits.csv'\n",
        "df = pd.read_csv(url,index_col=0)\n",
        "\n",
        "df.head()"
      ],
      "execution_count": 2,
      "outputs": [
        {
          "output_type": "execute_result",
          "data": {
            "text/html": [
              "<div>\n",
              "<style scoped>\n",
              "    .dataframe tbody tr th:only-of-type {\n",
              "        vertical-align: middle;\n",
              "    }\n",
              "\n",
              "    .dataframe tbody tr th {\n",
              "        vertical-align: top;\n",
              "    }\n",
              "\n",
              "    .dataframe thead th {\n",
              "        text-align: right;\n",
              "    }\n",
              "</style>\n",
              "<table border=\"1\" class=\"dataframe\">\n",
              "  <thead>\n",
              "    <tr style=\"text-align: right;\">\n",
              "      <th></th>\n",
              "      <th>mfcc_0_mean</th>\n",
              "      <th>mfcc_1_mean</th>\n",
              "      <th>mfcc_2_mean</th>\n",
              "      <th>mfcc_3_mean</th>\n",
              "      <th>mfcc_4_mean</th>\n",
              "      <th>mfcc_5_mean</th>\n",
              "      <th>mfcc_6_mean</th>\n",
              "      <th>mfcc_7_mean</th>\n",
              "      <th>mfcc_8_mean</th>\n",
              "      <th>mfcc_9_mean</th>\n",
              "      <th>mfcc_10_mean</th>\n",
              "      <th>mfcc_11_mean</th>\n",
              "      <th>energy_mean</th>\n",
              "      <th>mfcc_0_std</th>\n",
              "      <th>mfcc_1_std</th>\n",
              "      <th>mfcc_2_std</th>\n",
              "      <th>mfcc_3_std</th>\n",
              "      <th>mfcc_4_std</th>\n",
              "      <th>mfcc_5_std</th>\n",
              "      <th>mfcc_6_std</th>\n",
              "      <th>mfcc_7_std</th>\n",
              "      <th>mfcc_8_std</th>\n",
              "      <th>mfcc_9_std</th>\n",
              "      <th>mfcc_10_std</th>\n",
              "      <th>mfcc_11_std</th>\n",
              "      <th>energy_std</th>\n",
              "      <th>dmfcc_0_mean</th>\n",
              "      <th>dmfcc_1_mean</th>\n",
              "      <th>dmfcc_2_mean</th>\n",
              "      <th>dmfcc_3_mean</th>\n",
              "      <th>dmfcc_4_mean</th>\n",
              "      <th>dmfcc_5_mean</th>\n",
              "      <th>dmfcc_6_mean</th>\n",
              "      <th>dmfcc_7_mean</th>\n",
              "      <th>dmfcc_8_mean</th>\n",
              "      <th>dmfcc_9_mean</th>\n",
              "      <th>dmfcc_10_mean</th>\n",
              "      <th>dmfcc_11_mean</th>\n",
              "      <th>denergy_mean</th>\n",
              "      <th>dmfcc_0_std</th>\n",
              "      <th>dmfcc_1_std</th>\n",
              "      <th>dmfcc_2_std</th>\n",
              "      <th>dmfcc_3_std</th>\n",
              "      <th>dmfcc_4_std</th>\n",
              "      <th>dmfcc_5_std</th>\n",
              "      <th>dmfcc_6_std</th>\n",
              "      <th>dmfcc_7_std</th>\n",
              "      <th>dmfcc_8_std</th>\n",
              "      <th>dmfcc_9_std</th>\n",
              "      <th>dmfcc_10_std</th>\n",
              "      <th>dmfcc_11_std</th>\n",
              "      <th>denergy_std</th>\n",
              "      <th>ddmfcc_0_mean</th>\n",
              "      <th>ddmfcc_1_mean</th>\n",
              "      <th>ddmfcc_2_mean</th>\n",
              "      <th>ddmfcc_3_mean</th>\n",
              "      <th>ddmfcc_4_mean</th>\n",
              "      <th>ddmfcc_5_mean</th>\n",
              "      <th>ddmfcc_6_mean</th>\n",
              "      <th>ddmfcc_7_mean</th>\n",
              "      <th>ddmfcc_8_mean</th>\n",
              "      <th>ddmfcc_9_mean</th>\n",
              "      <th>ddmfcc_10_mean</th>\n",
              "      <th>ddmfcc_11_mean</th>\n",
              "      <th>ddenergy_mean</th>\n",
              "      <th>ddmfcc_0_std</th>\n",
              "      <th>ddmfcc_1_std</th>\n",
              "      <th>ddmfcc_2_std</th>\n",
              "      <th>ddmfcc_3_std</th>\n",
              "      <th>ddmfcc_4_std</th>\n",
              "      <th>ddmfcc_5_std</th>\n",
              "      <th>ddmfcc_6_std</th>\n",
              "      <th>ddmfcc_7_std</th>\n",
              "      <th>ddmfcc_8_std</th>\n",
              "      <th>ddmfcc_9_std</th>\n",
              "      <th>ddmfcc_10_std</th>\n",
              "      <th>ddmfcc_11_std</th>\n",
              "      <th>ddenergy_std</th>\n",
              "      <th>digit</th>\n",
              "    </tr>\n",
              "  </thead>\n",
              "  <tbody>\n",
              "    <tr>\n",
              "      <th>0</th>\n",
              "      <td>-361.668962</td>\n",
              "      <td>53.859608</td>\n",
              "      <td>-6.401287</td>\n",
              "      <td>10.504276</td>\n",
              "      <td>-3.063851</td>\n",
              "      <td>6.977546</td>\n",
              "      <td>-10.760357</td>\n",
              "      <td>9.866350</td>\n",
              "      <td>-7.370083</td>\n",
              "      <td>5.051000</td>\n",
              "      <td>-8.156331</td>\n",
              "      <td>6.235290</td>\n",
              "      <td>0.020506</td>\n",
              "      <td>84.485822</td>\n",
              "      <td>36.688378</td>\n",
              "      <td>32.587302</td>\n",
              "      <td>27.525683</td>\n",
              "      <td>12.506436</td>\n",
              "      <td>18.707495</td>\n",
              "      <td>18.116925</td>\n",
              "      <td>8.329306</td>\n",
              "      <td>12.290994</td>\n",
              "      <td>7.297515</td>\n",
              "      <td>6.983674</td>\n",
              "      <td>5.416876</td>\n",
              "      <td>0.021759</td>\n",
              "      <td>0.359901</td>\n",
              "      <td>0.330505</td>\n",
              "      <td>0.226528</td>\n",
              "      <td>-0.021894</td>\n",
              "      <td>-0.114450</td>\n",
              "      <td>-0.000125</td>\n",
              "      <td>0.052082</td>\n",
              "      <td>0.350795</td>\n",
              "      <td>0.457632</td>\n",
              "      <td>0.267502</td>\n",
              "      <td>0.047328</td>\n",
              "      <td>0.106565</td>\n",
              "      <td>0.000017</td>\n",
              "      <td>23.321771</td>\n",
              "      <td>14.697988</td>\n",
              "      <td>14.023375</td>\n",
              "      <td>13.346168</td>\n",
              "      <td>7.113900</td>\n",
              "      <td>8.144410</td>\n",
              "      <td>7.238074</td>\n",
              "      <td>6.321893</td>\n",
              "      <td>8.587937</td>\n",
              "      <td>5.851012</td>\n",
              "      <td>5.810887</td>\n",
              "      <td>4.690040</td>\n",
              "      <td>0.005552</td>\n",
              "      <td>-0.244996</td>\n",
              "      <td>-0.182200</td>\n",
              "      <td>0.016071</td>\n",
              "      <td>0.149166</td>\n",
              "      <td>0.174072</td>\n",
              "      <td>-0.114410</td>\n",
              "      <td>-0.093302</td>\n",
              "      <td>0.108464</td>\n",
              "      <td>0.012912</td>\n",
              "      <td>-0.257687</td>\n",
              "      <td>-0.302846</td>\n",
              "      <td>-0.123361</td>\n",
              "      <td>-0.000003</td>\n",
              "      <td>16.897698</td>\n",
              "      <td>15.136910</td>\n",
              "      <td>10.813695</td>\n",
              "      <td>11.576804</td>\n",
              "      <td>7.798867</td>\n",
              "      <td>8.156207</td>\n",
              "      <td>5.955693</td>\n",
              "      <td>6.824333</td>\n",
              "      <td>9.274772</td>\n",
              "      <td>7.424050</td>\n",
              "      <td>7.378358</td>\n",
              "      <td>6.327442</td>\n",
              "      <td>0.002906</td>\n",
              "      <td>zero</td>\n",
              "    </tr>\n",
              "    <tr>\n",
              "      <th>1</th>\n",
              "      <td>-344.429501</td>\n",
              "      <td>62.971646</td>\n",
              "      <td>2.681298</td>\n",
              "      <td>32.594575</td>\n",
              "      <td>8.551349</td>\n",
              "      <td>3.027861</td>\n",
              "      <td>-19.559357</td>\n",
              "      <td>-7.843833</td>\n",
              "      <td>-16.635529</td>\n",
              "      <td>2.141704</td>\n",
              "      <td>-11.552719</td>\n",
              "      <td>-4.756587</td>\n",
              "      <td>0.118753</td>\n",
              "      <td>173.649231</td>\n",
              "      <td>95.038258</td>\n",
              "      <td>53.529298</td>\n",
              "      <td>42.021534</td>\n",
              "      <td>24.892815</td>\n",
              "      <td>35.768404</td>\n",
              "      <td>22.211827</td>\n",
              "      <td>24.265273</td>\n",
              "      <td>15.124858</td>\n",
              "      <td>12.671261</td>\n",
              "      <td>13.990900</td>\n",
              "      <td>9.912509</td>\n",
              "      <td>0.123166</td>\n",
              "      <td>0.260390</td>\n",
              "      <td>0.334700</td>\n",
              "      <td>0.246556</td>\n",
              "      <td>0.131604</td>\n",
              "      <td>0.014532</td>\n",
              "      <td>-0.091141</td>\n",
              "      <td>-0.176278</td>\n",
              "      <td>-0.228289</td>\n",
              "      <td>-0.235325</td>\n",
              "      <td>-0.197977</td>\n",
              "      <td>-0.132908</td>\n",
              "      <td>-0.062320</td>\n",
              "      <td>-0.000021</td>\n",
              "      <td>56.698277</td>\n",
              "      <td>33.695692</td>\n",
              "      <td>24.187970</td>\n",
              "      <td>20.884370</td>\n",
              "      <td>10.510898</td>\n",
              "      <td>15.940563</td>\n",
              "      <td>11.625681</td>\n",
              "      <td>12.151329</td>\n",
              "      <td>11.425712</td>\n",
              "      <td>8.151023</td>\n",
              "      <td>6.990844</td>\n",
              "      <td>8.121423</td>\n",
              "      <td>0.035362</td>\n",
              "      <td>-0.910990</td>\n",
              "      <td>0.726239</td>\n",
              "      <td>-0.735316</td>\n",
              "      <td>-0.120967</td>\n",
              "      <td>0.361948</td>\n",
              "      <td>-0.793723</td>\n",
              "      <td>0.870366</td>\n",
              "      <td>-0.597435</td>\n",
              "      <td>0.426952</td>\n",
              "      <td>0.141512</td>\n",
              "      <td>-0.224778</td>\n",
              "      <td>0.492211</td>\n",
              "      <td>-0.000677</td>\n",
              "      <td>44.595048</td>\n",
              "      <td>34.310766</td>\n",
              "      <td>19.642012</td>\n",
              "      <td>22.839959</td>\n",
              "      <td>9.655708</td>\n",
              "      <td>13.889084</td>\n",
              "      <td>14.058253</td>\n",
              "      <td>10.832590</td>\n",
              "      <td>14.331551</td>\n",
              "      <td>11.756045</td>\n",
              "      <td>7.560719</td>\n",
              "      <td>11.408998</td>\n",
              "      <td>0.020434</td>\n",
              "      <td>zero</td>\n",
              "    </tr>\n",
              "    <tr>\n",
              "      <th>2</th>\n",
              "      <td>-381.906240</td>\n",
              "      <td>131.083215</td>\n",
              "      <td>2.012445</td>\n",
              "      <td>-2.563179</td>\n",
              "      <td>-15.922072</td>\n",
              "      <td>-7.889542</td>\n",
              "      <td>-20.937417</td>\n",
              "      <td>-0.064021</td>\n",
              "      <td>-10.726910</td>\n",
              "      <td>-9.290048</td>\n",
              "      <td>-16.011377</td>\n",
              "      <td>0.984315</td>\n",
              "      <td>0.042835</td>\n",
              "      <td>149.161164</td>\n",
              "      <td>76.830646</td>\n",
              "      <td>36.360022</td>\n",
              "      <td>31.036041</td>\n",
              "      <td>20.566772</td>\n",
              "      <td>18.434693</td>\n",
              "      <td>20.981280</td>\n",
              "      <td>12.833288</td>\n",
              "      <td>9.960668</td>\n",
              "      <td>8.793140</td>\n",
              "      <td>15.277377</td>\n",
              "      <td>6.334916</td>\n",
              "      <td>0.038487</td>\n",
              "      <td>-5.321107</td>\n",
              "      <td>2.195576</td>\n",
              "      <td>-1.007546</td>\n",
              "      <td>-0.641226</td>\n",
              "      <td>1.343937</td>\n",
              "      <td>-0.987439</td>\n",
              "      <td>0.099842</td>\n",
              "      <td>1.208208</td>\n",
              "      <td>0.609522</td>\n",
              "      <td>0.137784</td>\n",
              "      <td>0.701948</td>\n",
              "      <td>-0.386948</td>\n",
              "      <td>-0.000283</td>\n",
              "      <td>31.632638</td>\n",
              "      <td>23.050736</td>\n",
              "      <td>15.745608</td>\n",
              "      <td>10.699331</td>\n",
              "      <td>9.154738</td>\n",
              "      <td>8.849845</td>\n",
              "      <td>9.485480</td>\n",
              "      <td>7.940487</td>\n",
              "      <td>5.662432</td>\n",
              "      <td>5.191579</td>\n",
              "      <td>5.311871</td>\n",
              "      <td>4.591579</td>\n",
              "      <td>0.010598</td>\n",
              "      <td>-2.742922</td>\n",
              "      <td>-0.456658</td>\n",
              "      <td>-0.751993</td>\n",
              "      <td>0.126027</td>\n",
              "      <td>0.180305</td>\n",
              "      <td>0.301520</td>\n",
              "      <td>0.225588</td>\n",
              "      <td>-0.150963</td>\n",
              "      <td>0.048313</td>\n",
              "      <td>0.099245</td>\n",
              "      <td>0.260038</td>\n",
              "      <td>0.153182</td>\n",
              "      <td>-0.000041</td>\n",
              "      <td>16.727111</td>\n",
              "      <td>17.354693</td>\n",
              "      <td>14.925466</td>\n",
              "      <td>9.995126</td>\n",
              "      <td>8.587932</td>\n",
              "      <td>7.835087</td>\n",
              "      <td>9.674393</td>\n",
              "      <td>8.459633</td>\n",
              "      <td>6.429986</td>\n",
              "      <td>6.019982</td>\n",
              "      <td>6.302291</td>\n",
              "      <td>6.111948</td>\n",
              "      <td>0.006472</td>\n",
              "      <td>zero</td>\n",
              "    </tr>\n",
              "    <tr>\n",
              "      <th>3</th>\n",
              "      <td>-329.006034</td>\n",
              "      <td>89.473208</td>\n",
              "      <td>-8.629773</td>\n",
              "      <td>41.554231</td>\n",
              "      <td>9.980941</td>\n",
              "      <td>-7.126969</td>\n",
              "      <td>-1.424785</td>\n",
              "      <td>-17.449013</td>\n",
              "      <td>9.463047</td>\n",
              "      <td>4.690114</td>\n",
              "      <td>-24.510781</td>\n",
              "      <td>-4.587081</td>\n",
              "      <td>0.094111</td>\n",
              "      <td>184.086326</td>\n",
              "      <td>85.194146</td>\n",
              "      <td>42.588011</td>\n",
              "      <td>36.838445</td>\n",
              "      <td>20.480218</td>\n",
              "      <td>21.511364</td>\n",
              "      <td>16.249922</td>\n",
              "      <td>17.228201</td>\n",
              "      <td>14.757756</td>\n",
              "      <td>7.775876</td>\n",
              "      <td>14.650661</td>\n",
              "      <td>11.611371</td>\n",
              "      <td>0.101597</td>\n",
              "      <td>-0.902751</td>\n",
              "      <td>0.393178</td>\n",
              "      <td>1.436376</td>\n",
              "      <td>-0.065834</td>\n",
              "      <td>-0.407902</td>\n",
              "      <td>0.427270</td>\n",
              "      <td>0.805424</td>\n",
              "      <td>0.465727</td>\n",
              "      <td>-0.252292</td>\n",
              "      <td>0.078161</td>\n",
              "      <td>0.532303</td>\n",
              "      <td>-0.077415</td>\n",
              "      <td>-0.000004</td>\n",
              "      <td>57.933840</td>\n",
              "      <td>31.254174</td>\n",
              "      <td>18.373933</td>\n",
              "      <td>19.715451</td>\n",
              "      <td>13.388871</td>\n",
              "      <td>10.480729</td>\n",
              "      <td>8.742591</td>\n",
              "      <td>10.220457</td>\n",
              "      <td>7.332688</td>\n",
              "      <td>6.213142</td>\n",
              "      <td>7.831121</td>\n",
              "      <td>7.793500</td>\n",
              "      <td>0.025616</td>\n",
              "      <td>-1.316537</td>\n",
              "      <td>-0.830679</td>\n",
              "      <td>-0.070027</td>\n",
              "      <td>-0.317255</td>\n",
              "      <td>0.099754</td>\n",
              "      <td>0.125140</td>\n",
              "      <td>-0.098501</td>\n",
              "      <td>0.102492</td>\n",
              "      <td>-0.181358</td>\n",
              "      <td>-0.120128</td>\n",
              "      <td>0.404970</td>\n",
              "      <td>0.299215</td>\n",
              "      <td>-0.000032</td>\n",
              "      <td>42.029108</td>\n",
              "      <td>28.110167</td>\n",
              "      <td>17.748159</td>\n",
              "      <td>23.588933</td>\n",
              "      <td>13.925842</td>\n",
              "      <td>11.329843</td>\n",
              "      <td>9.734676</td>\n",
              "      <td>12.571344</td>\n",
              "      <td>7.648433</td>\n",
              "      <td>7.622476</td>\n",
              "      <td>9.617163</td>\n",
              "      <td>8.681354</td>\n",
              "      <td>0.018406</td>\n",
              "      <td>zero</td>\n",
              "    </tr>\n",
              "    <tr>\n",
              "      <th>4</th>\n",
              "      <td>-407.817308</td>\n",
              "      <td>113.359332</td>\n",
              "      <td>-15.943540</td>\n",
              "      <td>37.747222</td>\n",
              "      <td>12.717220</td>\n",
              "      <td>-35.935848</td>\n",
              "      <td>-33.958903</td>\n",
              "      <td>-1.712428</td>\n",
              "      <td>-7.958551</td>\n",
              "      <td>-10.802430</td>\n",
              "      <td>-13.689070</td>\n",
              "      <td>-8.762311</td>\n",
              "      <td>0.035858</td>\n",
              "      <td>168.243993</td>\n",
              "      <td>79.597897</td>\n",
              "      <td>45.314693</td>\n",
              "      <td>24.950169</td>\n",
              "      <td>12.949778</td>\n",
              "      <td>17.406279</td>\n",
              "      <td>14.763570</td>\n",
              "      <td>18.769997</td>\n",
              "      <td>13.671007</td>\n",
              "      <td>7.603593</td>\n",
              "      <td>8.084885</td>\n",
              "      <td>6.597420</td>\n",
              "      <td>0.035820</td>\n",
              "      <td>-0.625030</td>\n",
              "      <td>0.506510</td>\n",
              "      <td>1.507967</td>\n",
              "      <td>0.007407</td>\n",
              "      <td>-0.470503</td>\n",
              "      <td>0.616943</td>\n",
              "      <td>-0.045971</td>\n",
              "      <td>-1.514646</td>\n",
              "      <td>-0.965904</td>\n",
              "      <td>0.176808</td>\n",
              "      <td>0.117950</td>\n",
              "      <td>-0.015440</td>\n",
              "      <td>0.000011</td>\n",
              "      <td>43.427301</td>\n",
              "      <td>26.802059</td>\n",
              "      <td>16.931551</td>\n",
              "      <td>10.642886</td>\n",
              "      <td>8.103669</td>\n",
              "      <td>9.546299</td>\n",
              "      <td>7.966252</td>\n",
              "      <td>8.936137</td>\n",
              "      <td>7.733242</td>\n",
              "      <td>5.370799</td>\n",
              "      <td>4.079962</td>\n",
              "      <td>4.290034</td>\n",
              "      <td>0.009521</td>\n",
              "      <td>-0.515967</td>\n",
              "      <td>-0.581526</td>\n",
              "      <td>-0.167377</td>\n",
              "      <td>0.106687</td>\n",
              "      <td>-0.022144</td>\n",
              "      <td>-0.058649</td>\n",
              "      <td>0.076825</td>\n",
              "      <td>-0.069712</td>\n",
              "      <td>-0.231798</td>\n",
              "      <td>-0.025487</td>\n",
              "      <td>0.183732</td>\n",
              "      <td>0.125575</td>\n",
              "      <td>-0.000014</td>\n",
              "      <td>24.294751</td>\n",
              "      <td>25.687584</td>\n",
              "      <td>17.623376</td>\n",
              "      <td>10.889669</td>\n",
              "      <td>11.950545</td>\n",
              "      <td>10.403010</td>\n",
              "      <td>7.634684</td>\n",
              "      <td>10.204372</td>\n",
              "      <td>11.217721</td>\n",
              "      <td>5.840141</td>\n",
              "      <td>3.973669</td>\n",
              "      <td>5.038977</td>\n",
              "      <td>0.005959</td>\n",
              "      <td>zero</td>\n",
              "    </tr>\n",
              "  </tbody>\n",
              "</table>\n",
              "</div>"
            ],
            "text/plain": [
              "   mfcc_0_mean  mfcc_1_mean  mfcc_2_mean  ...  ddmfcc_11_std  ddenergy_std  digit\n",
              "0  -361.668962    53.859608    -6.401287  ...       6.327442      0.002906   zero\n",
              "1  -344.429501    62.971646     2.681298  ...      11.408998      0.020434   zero\n",
              "2  -381.906240   131.083215     2.012445  ...       6.111948      0.006472   zero\n",
              "3  -329.006034    89.473208    -8.629773  ...       8.681354      0.018406   zero\n",
              "4  -407.817308   113.359332   -15.943540  ...       5.038977      0.005959   zero\n",
              "\n",
              "[5 rows x 79 columns]"
            ]
          },
          "metadata": {
            "tags": []
          },
          "execution_count": 2
        }
      ]
    },
    {
      "cell_type": "markdown",
      "metadata": {
        "id": "LROVKZunk6VK",
        "colab_type": "text"
      },
      "source": [
        "# Split Train-Test"
      ]
    },
    {
      "cell_type": "code",
      "metadata": {
        "id": "-NNReZYfOyLO",
        "colab_type": "code",
        "colab": {
          "base_uri": "https://localhost:8080/",
          "height": 68
        },
        "outputId": "eb69ee72-a375-4a06-dc41-15fdd02fa746"
      },
      "source": [
        "from sklearn.model_selection import train_test_split\n",
        "\n",
        "df_features = df.loc[:, df.columns != 'digit']\n",
        "df_target = df['digit'] # DIGIT ES LO QUE QUEREMOS PREDECIR\n",
        "\n",
        "X_dev, X_test, y_dev, y_test = train_test_split(\n",
        "    df_features.values, \n",
        "    df_target.values, \n",
        "    test_size=0.3, \n",
        "    random_state=4589,\n",
        "    stratify=df_target.values\n",
        ")\n",
        "\n",
        "X_train, X_val, y_train, y_val = train_test_split(\n",
        "    X_dev, \n",
        "    y_dev, \n",
        "    test_size=0.3, \n",
        "    random_state=4589,\n",
        "    stratify=y_dev\n",
        ")\n",
        "\n",
        "print(f'Entrenamiento: {len(X_train)}')\n",
        "print('Validacion: {}'.format(len(X_val)))\n",
        "print(f'Held-out: {len(X_test)}')\n"
      ],
      "execution_count": 33,
      "outputs": [
        {
          "output_type": "stream",
          "text": [
            "Entrenamiento: 11596\n",
            "Validacion: 4970\n",
            "Held-out: 7100\n"
          ],
          "name": "stdout"
        }
      ]
    },
    {
      "cell_type": "code",
      "metadata": {
        "id": "VZRDwJlUPdUE",
        "colab_type": "code",
        "colab": {}
      },
      "source": [
        "# Feature Scaling\n",
        "scaler = StandardScaler()\n",
        "\n",
        "X_train = scaler.fit_transform(X_train)\n",
        "X_val = scaler.fit_transform(X_val)\n",
        "X_test = scaler.transform(X_test)"
      ],
      "execution_count": 34,
      "outputs": []
    },
    {
      "cell_type": "code",
      "metadata": {
        "id": "gnw6AQPyPfmd",
        "colab_type": "code",
        "colab": {
          "base_uri": "https://localhost:8080/",
          "height": 51
        },
        "outputId": "f8007333-4850-476e-860d-ba5adbe92708"
      },
      "source": [
        "pd.Series(y_train).unique()"
      ],
      "execution_count": 35,
      "outputs": [
        {
          "output_type": "execute_result",
          "data": {
            "text/plain": [
              "array(['nine', 'three', 'two', 'eight', 'six', 'seven', 'five', 'four',\n",
              "       'one', 'zero'], dtype=object)"
            ]
          },
          "metadata": {
            "tags": []
          },
          "execution_count": 35
        }
      ]
    },
    {
      "cell_type": "code",
      "metadata": {
        "id": "ivXnrk5nPhcu",
        "colab_type": "code",
        "colab": {
          "base_uri": "https://localhost:8080/",
          "height": 187
        },
        "outputId": "bd406efe-d83e-4730-a554-7462bcb4d5b0"
      },
      "source": [
        "for k,title in enumerate(pd.Series(y_train).unique()):\n",
        "    print(f'Y >  {title}', end='\\t')\n",
        "    perc_train = pd.Series(y_train).value_counts(normalize=True)\n",
        "    perc_val = pd.Series(y_val).value_counts(normalize=True)\n",
        "    perc_test = pd.Series(y_test).value_counts(normalize=True)\n",
        "    print(f'Entrenamiento:{perc_train[k]:.5}', end='\\t')\n",
        "    print(f'Validación:{perc_val[k]:.5}', end='\\t')\n",
        "    print(f'Held-out:{perc_train[k]:.5}')"
      ],
      "execution_count": 36,
      "outputs": [
        {
          "output_type": "stream",
          "text": [
            "Y >  nine\tEntrenamiento:0.10047\tValidación:0.1004\tHeld-out:0.10047\n",
            "Y >  three\tEntrenamiento:0.10038\tValidación:0.1004\tHeld-out:0.10038\n",
            "Y >  two\tEntrenamiento:0.10029\tValidación:0.1002\tHeld-out:0.10029\n",
            "Y >  eight\tEntrenamiento:0.10021\tValidación:0.1002\tHeld-out:0.10021\n",
            "Y >  six\tEntrenamiento:0.10012\tValidación:0.1002\tHeld-out:0.10012\n",
            "Y >  seven\tEntrenamiento:0.10012\tValidación:0.1\tHeld-out:0.10012\n",
            "Y >  five\tEntrenamiento:0.099862\tValidación:0.1\tHeld-out:0.099862\n",
            "Y >  four\tEntrenamiento:0.099603\tValidación:0.099598\tHeld-out:0.099603\n",
            "Y >  one\tEntrenamiento:0.099517\tValidación:0.099598\tHeld-out:0.099517\n",
            "Y >  zero\tEntrenamiento:0.099431\tValidación:0.099396\tHeld-out:0.099431\n"
          ],
          "name": "stdout"
        }
      ]
    },
    {
      "cell_type": "markdown",
      "metadata": {
        "id": "C92fIX3Hm5Z5",
        "colab_type": "text"
      },
      "source": [
        "# Naive Bayes"
      ]
    },
    {
      "cell_type": "code",
      "metadata": {
        "id": "0yQ2XoCHm4kU",
        "colab_type": "code",
        "colab": {}
      },
      "source": [
        "gnb = GaussianNB()\n",
        "gnb.fit(X_train, y_train)\n",
        "gnb_y_pred = gnb.predict(X_val)"
      ],
      "execution_count": 18,
      "outputs": []
    },
    {
      "cell_type": "code",
      "metadata": {
        "id": "nFEDERKKsJ3F",
        "colab_type": "code",
        "colab": {}
      },
      "source": [
        "print(gnb.classes_)\n",
        "print(gnb.get_params())\n",
        "\n",
        "# Mean of each feature per class\n",
        "print(gnb.theta_) "
      ],
      "execution_count": null,
      "outputs": []
    },
    {
      "cell_type": "code",
      "metadata": {
        "id": "xhHbgYozsQxt",
        "colab_type": "code",
        "colab": {
          "base_uri": "https://localhost:8080/",
          "height": 296
        },
        "outputId": "f4ea156b-57ac-4f09-e5b2-4e3162ce6052"
      },
      "source": [
        "# Confusion Matrix\n",
        "plot_confusion_matrix(gnb, X_val, y_val)"
      ],
      "execution_count": 20,
      "outputs": [
        {
          "output_type": "execute_result",
          "data": {
            "text/plain": [
              "<sklearn.metrics._plot.confusion_matrix.ConfusionMatrixDisplay at 0x7fc7583ef898>"
            ]
          },
          "metadata": {
            "tags": []
          },
          "execution_count": 20
        },
        {
          "output_type": "display_data",
          "data": {
            "image/png": "[encoded data removed]",
            "text/plain": [
              "<Figure size 432x288 with 2 Axes>"
            ]
          },
          "metadata": {
            "tags": [],
            "needs_background": "light"
          }
        }
      ]
    },
    {
      "cell_type": "code",
      "metadata": {
        "id": "t7BEEHFwsY4K",
        "colab_type": "code",
        "colab": {
          "base_uri": "https://localhost:8080/",
          "height": 306
        },
        "outputId": "118590c2-5ad8-4741-f42e-526e1f5fdbe7"
      },
      "source": [
        "# Classification Report\n",
        "gnb_report = classification_report(y_val,gnb_y_pred)\n",
        "print(gnb_report)"
      ],
      "execution_count": 21,
      "outputs": [
        {
          "output_type": "stream",
          "text": [
            "              precision    recall  f1-score   support\n",
            "\n",
            "       eight       0.67      0.52      0.58       705\n",
            "        five       0.51      0.57      0.54       707\n",
            "        four       0.68      0.58      0.63       712\n",
            "        nine       0.60      0.46      0.52       709\n",
            "         one       0.44      0.55      0.49       711\n",
            "       seven       0.53      0.51      0.52       713\n",
            "         six       0.50      0.54      0.52       711\n",
            "       three       0.52      0.50      0.51       707\n",
            "         two       0.41      0.55      0.47       712\n",
            "        zero       0.62      0.56      0.59       713\n",
            "\n",
            "    accuracy                           0.53      7100\n",
            "   macro avg       0.55      0.53      0.54      7100\n",
            "weighted avg       0.55      0.53      0.54      7100\n",
            "\n"
          ],
          "name": "stdout"
        }
      ]
    },
    {
      "cell_type": "markdown",
      "metadata": {
        "id": "OHwoNOBEvApY",
        "colab_type": "text"
      },
      "source": [
        "# RandomForestClassifier"
      ]
    },
    {
      "cell_type": "code",
      "metadata": {
        "id": "3QfxxsUwvJ3b",
        "colab_type": "code",
        "colab": {
          "base_uri": "https://localhost:8080/",
          "height": 51
        },
        "outputId": "b7b59287-51d3-43a0-ca72-65faaa3f25b4"
      },
      "source": [
        "rf = RandomForestClassifier(\n",
        "    random_state=4589\n",
        ")\n",
        "rf.fit(X_train, y_train)\n",
        "print(\"Accuracy training : {:.3f}\".format(rf.score(X_train, y_train)))\n",
        "print(\"Accuracy test: {:.3f}\".format(rf.score(X_val, y_val)))"
      ],
      "execution_count": 24,
      "outputs": [
        {
          "output_type": "stream",
          "text": [
            "Accuracy training : 1.000\n",
            "Accuracy test: 0.710\n"
          ],
          "name": "stdout"
        }
      ]
    },
    {
      "cell_type": "code",
      "metadata": {
        "id": "nv9nCE3HwDuc",
        "colab_type": "code",
        "colab": {
          "base_uri": "https://localhost:8080/",
          "height": 68
        },
        "outputId": "4932367f-b04b-4c8e-d673-792afe03b0ee"
      },
      "source": [
        "parameters = {\n",
        "    'n_estimators':range(50, 200, 5), \n",
        "    'max_depth':range(1,6), \n",
        "    'bootstrap':[True, False]\n",
        "}\n",
        "clf = GridSearchCV(\n",
        "    RandomForestClassifier(\n",
        "        random_state=4589\n",
        "    ), \n",
        "    parameters, \n",
        "    n_jobs=10, \n",
        "    scoring='accuracy'\n",
        ")\n",
        "\n",
        "clf.fit(X_train, y_train)\n",
        "rf = clf.best_estimator_\n",
        "print (clf.best_score_, clf.best_params_)\n",
        "print(\"Accuracy training : {:.3f}\".format(rf.score(X_train, y_train)))\n",
        "print(\"Accuracy test: {:.3f}\".format(rf.score(X_val, y_val)))"
      ],
      "execution_count": 25,
      "outputs": [
        {
          "output_type": "stream",
          "text": [
            "0.5624169595060952 {'bootstrap': True, 'max_depth': 5, 'n_estimators': 175}\n",
            "Accuracy training : 0.590\n",
            "Accuracy test: 0.563\n"
          ],
          "name": "stdout"
        }
      ]
    },
    {
      "cell_type": "code",
      "metadata": {
        "id": "fKRKD550Hs4n",
        "colab_type": "code",
        "colab": {
          "base_uri": "https://localhost:8080/",
          "height": 51
        },
        "outputId": "4991c6b8-ea88-4bc9-ba67-67dc48f382f1"
      },
      "source": [
        "best_rfc = RandomForestClassifier(\n",
        "  random_state=4589,\n",
        "  bootstrap = True,\n",
        "  max_depth = 5,\n",
        "  n_estimators = 175\n",
        ")\n",
        "best_rfc.fit(X_train, y_train)\n",
        "print(\"Accuracy training : {:.3f}\".format(best_rfc.score(X_train, y_train)))\n",
        "print(\"Accuracy test: {:.3f}\".format(best_rfc.score(X_val, y_val)))"
      ],
      "execution_count": 30,
      "outputs": [
        {
          "output_type": "stream",
          "text": [
            "Accuracy training : 0.590\n",
            "Accuracy test: 0.563\n"
          ],
          "name": "stdout"
        }
      ]
    },
    {
      "cell_type": "markdown",
      "metadata": {
        "id": "pdgGSNhCvFPY",
        "colab_type": "text"
      },
      "source": [
        "# Gradient Boosting Machines"
      ]
    },
    {
      "cell_type": "code",
      "metadata": {
        "id": "6TEEQXnLvKmT",
        "colab_type": "code",
        "colab": {
          "base_uri": "https://localhost:8080/",
          "height": 51
        },
        "outputId": "805ce589-7d63-4fc0-bf8b-1e8fe04e02e6"
      },
      "source": [
        "gb = GradientBoostingClassifier(\n",
        "    random_state=4589\n",
        ")\n",
        "gb.fit(X_train, y_train)\n",
        "print(\"Accuracy on training set: {:.3f}\".format(gb.score(X_train, y_train)))\n",
        "print(\"Accuracy on test set: {:.3f}\".format(gb.score(X_val, y_val)))"
      ],
      "execution_count": 32,
      "outputs": [
        {
          "output_type": "stream",
          "text": [
            "Accuracy on training set: 0.836\n",
            "Accuracy on test set: 0.723\n"
          ],
          "name": "stdout"
        }
      ]
    },
    {
      "cell_type": "code",
      "metadata": {
        "id": "GIX04MUGxLUm",
        "colab_type": "code",
        "colab": {}
      },
      "source": [
        "parameters = {\n",
        "    'n_estimators':range(50, 200, 5),  \n",
        "    'max_depth':range(1,6), \n",
        "    'learning_rate': np.linspace(0 ,0.1, 10)\n",
        "}\n",
        "clf = GridSearchCV(\n",
        "    GradientBoostingClassifier(\n",
        "        random_state=4589\n",
        "    ), \n",
        "    parameters, \n",
        "    n_jobs=10, \n",
        "    scoring='accuracy'\n",
        ")\n",
        "\n",
        "clf.fit(X_train, y_train)\n",
        "rf = clf.best_estimator_\n",
        "print (clf.best_score_, clf.best_params_)\n",
        "print(\"Accuracy training : {:.3f}\".format(rf.score(X_train, y_train)))\n",
        "print(\"Accuracy test: {:.3f}\".format(rf.score(X_val, y_val)))"
      ],
      "execution_count": null,
      "outputs": []
    },
    {
      "cell_type": "code",
      "metadata": {
        "id": "o12b1jXw98tr",
        "colab_type": "code",
        "colab": {}
      },
      "source": [
        ""
      ],
      "execution_count": null,
      "outputs": []
    }
  ]
}