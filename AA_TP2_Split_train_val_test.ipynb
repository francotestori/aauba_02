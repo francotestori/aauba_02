{
  "nbformat": 4,
  "nbformat_minor": 0,
  "metadata": {
    "colab": {
      "name": "AA - TP2 - Split train-val-test",
      "provenance": [],
      "authorship_tag": "ABX9TyOiLuTXaNnNug3DBPNzLEzW",
      "include_colab_link": true
    },
    "kernelspec": {
      "name": "python3",
      "display_name": "Python 3"
    }
  },
  "cells": [
    {
      "cell_type": "markdown",
      "metadata": {
        "id": "view-in-github",
        "colab_type": "text"
      },
      "source": [
        "<a href=\"https://colab.research.google.com/github/francotestori/aauba_02/blob/anto/AA_TP2_Split_train_val_test.ipynb\" target=\"_parent\"><img src=\"https://colab.research.google.com/assets/colab-badge.svg\" alt=\"Open In Colab\"/></a>"
      ]
    },
    {
      "cell_type": "code",
      "metadata": {
        "id": "6yyfbiRQLcrS",
        "colab_type": "code",
        "colab": {}
      },
      "source": [
        "import pandas as pd"
      ],
      "execution_count": 1,
      "outputs": []
    },
    {
      "cell_type": "code",
      "metadata": {
        "id": "kzcbj_aFKL6R",
        "colab_type": "code",
        "colab": {}
      },
      "source": [
        "!wget https://raw.githubusercontent.com/francotestori/aauba_02/d9ac9be49832eaaee67f3dff431a519af4edd23d/resources/audio_digits_with_filename.csv\n",
        "!wget https://raw.githubusercontent.com/francotestori/aauba_02/master/testing.csv\n",
        "!wget https://raw.githubusercontent.com/francotestori/aauba_02/master/validation.csv"
      ],
      "execution_count": null,
      "outputs": []
    },
    {
      "cell_type": "code",
      "metadata": {
        "id": "vMCIBaJvKcc_",
        "colab_type": "code",
        "colab": {}
      },
      "source": [
        "# Carga de archivos\n",
        "\n",
        "df = pd.read_csv('audio_digits_with_filename.csv')\n",
        "testing_list = pd.read_csv('testing.csv')\n",
        "validation_list = pd.read_csv('validation.csv')"
      ],
      "execution_count": 3,
      "outputs": []
    },
    {
      "cell_type": "code",
      "metadata": {
        "id": "AZUqnVDHKjU1",
        "colab_type": "code",
        "colab": {}
      },
      "source": [
        "df.columns"
      ],
      "execution_count": null,
      "outputs": []
    },
    {
      "cell_type": "code",
      "metadata": {
        "id": "3oDbyYj3Kmk9",
        "colab_type": "code",
        "colab": {}
      },
      "source": [
        "# Eliminamos columna \n",
        "df = df.drop(['Unnamed: 0'],axis=1)\n",
        "\n",
        "# Creamos una columna que arregla el nombre del audio\n",
        "df['audio_name'] = df['filename'].str.slice(start=15)\n",
        "\n",
        "df"
      ],
      "execution_count": null,
      "outputs": []
    },
    {
      "cell_type": "code",
      "metadata": {
        "id": "4J3On-E_KyIJ",
        "colab_type": "code",
        "colab": {
          "base_uri": "https://localhost:8080/",
          "height": 87
        },
        "outputId": "2063db94-bb80-4383-d49c-f5ec8474c3dc"
      },
      "source": [
        "# Nos fijamos para cada audio a qué conjunto pertenece\n",
        "\n",
        "tipo_split = []\n",
        "for i in df['audio_name'] :\n",
        "  if i in testing_list['test'].tolist():\n",
        "    tipo_split.append('test')\n",
        "  elif i in validation_list['validation'].tolist():\n",
        "    tipo_split.append('validation') \n",
        "  else:\n",
        "    tipo_split.append('training')\n",
        "\n",
        "df['split'] = tipo_split\n",
        "\n",
        "df['split'].value_counts()"
      ],
      "execution_count": 8,
      "outputs": [
        {
          "output_type": "execute_result",
          "data": {
            "text/plain": [
              "training      18620\n",
              "test           2552\n",
              "validation     2494\n",
              "Name: split, dtype: int64"
            ]
          },
          "metadata": {
            "tags": []
          },
          "execution_count": 8
        }
      ]
    },
    {
      "cell_type": "code",
      "metadata": {
        "id": "viekpF07K3cA",
        "colab_type": "code",
        "colab": {}
      },
      "source": [
        "# Armado de conjuntos\n",
        "\n",
        "df_test = df[df['split']=='test']\n",
        "df_val = df[df['split']=='validation']\n",
        "df_train = df[df['split']=='training']\n",
        "\n",
        "# Target\n",
        "y_train = df_train['digit']\n",
        "y_val = df_val['digit']\n",
        "y_test = df_test['digit']\n",
        "\n",
        "# Features\n",
        "x_train = df_train.drop(['digit','filename','audio_name','split'],axis=1)\n",
        "x_val = df_val.drop(['digit','filename','audio_name','split'],axis=1)\n",
        "x_test = df_test.drop(['digit','filename','audio_name','split'],axis=1)"
      ],
      "execution_count": null,
      "outputs": []
    }
  ]
}